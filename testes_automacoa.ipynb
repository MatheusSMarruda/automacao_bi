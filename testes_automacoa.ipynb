{
 "cells": [
  {
   "cell_type": "code",
   "execution_count": 3,
   "metadata": {},
   "outputs": [],
   "source": [
    "import pyautogui\n",
    "import time\n",
    "import keyboard\n",
    "import pyperclip\n",
    "import os\n",
    "\n",
    "time.sleep(2)\n",
    "posicao_cursor_bi = pyautogui.locateCenterOnScreen(\"img_dash_bi.png\") #busca a pasta de inicio e fim de contratos\n",
    "pyautogui.click(posicao_cursor_bi, clicks=2) #abre a base de dados de inicio e fim de contratos\n",
    "time.sleep(15)\n",
    "pyautogui.hotkey('alt', 'space')\n",
    "time.sleep(1)\n",
    "pyautogui.hotkey('x')"
   ]
  }
 ],
 "metadata": {
  "kernelspec": {
   "display_name": "Python 3",
   "language": "python",
   "name": "python3"
  },
  "language_info": {
   "codemirror_mode": {
    "name": "ipython",
    "version": 3
   },
   "file_extension": ".py",
   "mimetype": "text/x-python",
   "name": "python",
   "nbconvert_exporter": "python",
   "pygments_lexer": "ipython3",
   "version": "3.11.9"
  }
 },
 "nbformat": 4,
 "nbformat_minor": 2
}
